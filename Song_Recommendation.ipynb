{
  "nbformat": 4,
  "nbformat_minor": 0,
  "metadata": {
    "colab": {
      "provenance": [],
      "mount_file_id": "1zh95ovzfC6Jahdmrg6ihxK60ioQPRv3S",
      "authorship_tag": "ABX9TyOinn/yfJCMhQdmMJYZ/y0n",
      "include_colab_link": true
    },
    "kernelspec": {
      "name": "python3",
      "display_name": "Python 3"
    },
    "language_info": {
      "name": "python"
    }
  },
  "cells": [
    {
      "cell_type": "markdown",
      "metadata": {
        "id": "view-in-github",
        "colab_type": "text"
      },
      "source": [
        "<a href=\"https://colab.research.google.com/github/shalwin04/Song-Recommendation/blob/main/Song_Recommendation.ipynb\" target=\"_parent\"><img src=\"https://colab.research.google.com/assets/colab-badge.svg\" alt=\"Open In Colab\"/></a>"
      ]
    },
    {
      "cell_type": "markdown",
      "source": [
        "**Songs recommendation based on the sentiment scores**\n"
      ],
      "metadata": {
        "id": "2WArrsUFE_GP"
      }
    },
    {
      "cell_type": "markdown",
      "source": [
        "import all the necessary libraries"
      ],
      "metadata": {
        "id": "Fu9DZ_Ue1dJR"
      }
    },
    {
      "cell_type": "code",
      "source": [
        "import pandas as pd\n",
        "import numpy as np\n",
        "from sklearn.model_selection import train_test_split\n",
        "from sklearn.ensemble import RandomForestClassifier\n",
        "from sklearn.metrics import accuracy_score"
      ],
      "metadata": {
        "id": "7hPwPRo1FFU_"
      },
      "execution_count": null,
      "outputs": []
    },
    {
      "cell_type": "code",
      "source": [
        "from google.colab import drive\n",
        "drive.mount('/content/drive')"
      ],
      "metadata": {
        "id": "bI1BWbWzIKEz",
        "colab": {
          "base_uri": "https://localhost:8080/"
        },
        "outputId": "891f87e1-8218-4381-b74c-75aded0ff132"
      },
      "execution_count": null,
      "outputs": [
        {
          "output_type": "stream",
          "name": "stdout",
          "text": [
            "Drive already mounted at /content/drive; to attempt to forcibly remount, call drive.mount(\"/content/drive\", force_remount=True).\n"
          ]
        }
      ]
    },
    {
      "cell_type": "code",
      "source": [
        "df = pd.read_csv(\"/content/drive/MyDrive/AIML Proj/Datasets/muse_v3.csv\")"
      ],
      "metadata": {
        "id": "wsuaVHAHR4ht"
      },
      "execution_count": null,
      "outputs": []
    },
    {
      "cell_type": "code",
      "source": [
        "df"
      ],
      "metadata": {
        "colab": {
          "base_uri": "https://localhost:8080/",
          "height": 860
        },
        "id": "QSouWDmKSBmL",
        "outputId": "f0415ecd-8dbf-4e6f-c4cd-60fd97b2e77f"
      },
      "execution_count": null,
      "outputs": [
        {
          "output_type": "execute_result",
          "data": {
            "text/plain": [
              "                                              lastfm_url  \\\n",
              "0      https://www.last.fm/music/eminem/_/%2527till%2...   \n",
              "1      https://www.last.fm/music/metallica/_/st.%2banger   \n",
              "2      https://www.last.fm/music/rick%2bross/_/speedi...   \n",
              "3      https://www.last.fm/music/m.i.a./_/bamboo%2bbanga   \n",
              "4        https://www.last.fm/music/dope/_/die%2bmf%2bdie   \n",
              "...                                                  ...   \n",
              "89996  https://www.last.fm/music/gaby%2bhoffmann%2b%2...   \n",
              "89997  https://www.last.fm/music/omar%2brodriguez-lop...   \n",
              "89998  https://www.last.fm/music/ace%2bwhite/_/crookf...   \n",
              "89999  https://www.last.fm/music/second%2bchyld/_/tra...   \n",
              "90000  https://www.last.fm/music/message%2bto%2bbears...   \n",
              "\n",
              "                                         track                       artist  \\\n",
              "0                             'Till I Collapse                       Eminem   \n",
              "1                                    St. Anger                    Metallica   \n",
              "2                                     Speedin'                    Rick Ross   \n",
              "3                                 Bamboo Banga                       M.I.A.   \n",
              "4                                   Die MF Die                         Dope   \n",
              "...                                        ...                          ...   \n",
              "89996                                   Battle  Gaby Hoffmann & Jay Duplass   \n",
              "89997  Hands Tied to the Roots of a Hemorrhage         Omar Rodriguez-Lopez   \n",
              "89998                           Crookfield Zoo                    Ace White   \n",
              "89999               Transparent (Full Version)                 Second Chyld   \n",
              "90000                                   Unfold             Message To Bears   \n",
              "\n",
              "                                            seeds  number_of_emotion_tags  \\\n",
              "0                                  ['aggressive']                       6   \n",
              "1                                  ['aggressive']                       8   \n",
              "2                                  ['aggressive']                       1   \n",
              "3      ['aggressive', 'fun', 'sexy', 'energetic']                      13   \n",
              "4                                  ['aggressive']                       7   \n",
              "...                                           ...                     ...   \n",
              "89996                             ['transparent']                       1   \n",
              "89997                             ['transparent']                       4   \n",
              "89998                             ['transparent']                       1   \n",
              "89999                             ['transparent']                       1   \n",
              "90000                             ['translucent']                       2   \n",
              "\n",
              "       valence_tags  arousal_tags  dominance_tags  \\\n",
              "0          4.550000      5.273125        5.690625   \n",
              "1          3.710000      5.833000        5.427250   \n",
              "2          3.080000      5.870000        5.490000   \n",
              "3          6.555071      5.537214        5.691357   \n",
              "4          3.771176      5.348235        5.441765   \n",
              "...             ...           ...             ...   \n",
              "89996      5.370000      3.450000        5.330000   \n",
              "89997      5.797887      4.132254        5.570563   \n",
              "89998      5.370000      3.450000        5.330000   \n",
              "89999      5.370000      3.450000        5.330000   \n",
              "90000      3.340000      1.405000        3.500000   \n",
              "\n",
              "                                       mbid              spotify_id  \\\n",
              "0      cab93def-26c5-4fb0-bedd-26ec4c1619e1  4xkOaSrkexMciUUogZKVTS   \n",
              "1      727a2529-7ee8-4860-aef6-7959884895cb  3fOc9x06lKJBhz435mInlH   \n",
              "2                                       NaN  3Y96xd4Ce0J47dcalLrEC8   \n",
              "3      99dd2c8c-e7c1-413e-8ea4-4497a00ffa18  6tqFC1DIOphJkCwrjVzPmg   \n",
              "4      b9eb3484-5e0e-4690-ab5a-ca91937032a5  5bU4KX47KqtDKKaLM4QCzh   \n",
              "...                                     ...                     ...   \n",
              "89996                                   NaN                     NaN   \n",
              "89997                                   NaN                     NaN   \n",
              "89998                                   NaN                     NaN   \n",
              "89999                                   NaN                     NaN   \n",
              "90000  247179b0-af1f-4c2b-b4fe-751070d1c0cc  14BYEOeRb3jzglJmKX8eM2   \n",
              "\n",
              "                  genre  \n",
              "0                   rap  \n",
              "1                 metal  \n",
              "2                   rap  \n",
              "3               hip-hop  \n",
              "4                 metal  \n",
              "...                 ...  \n",
              "89996               NaN  \n",
              "89997  progressive rock  \n",
              "89998               NaN  \n",
              "89999               NaN  \n",
              "90000           ambient  \n",
              "\n",
              "[90001 rows x 11 columns]"
            ],
            "text/html": [
              "\n",
              "  <div id=\"df-c586ee65-9ab0-40b7-9360-8a121c7462b8\" class=\"colab-df-container\">\n",
              "    <div>\n",
              "<style scoped>\n",
              "    .dataframe tbody tr th:only-of-type {\n",
              "        vertical-align: middle;\n",
              "    }\n",
              "\n",
              "    .dataframe tbody tr th {\n",
              "        vertical-align: top;\n",
              "    }\n",
              "\n",
              "    .dataframe thead th {\n",
              "        text-align: right;\n",
              "    }\n",
              "</style>\n",
              "<table border=\"1\" class=\"dataframe\">\n",
              "  <thead>\n",
              "    <tr style=\"text-align: right;\">\n",
              "      <th></th>\n",
              "      <th>lastfm_url</th>\n",
              "      <th>track</th>\n",
              "      <th>artist</th>\n",
              "      <th>seeds</th>\n",
              "      <th>number_of_emotion_tags</th>\n",
              "      <th>valence_tags</th>\n",
              "      <th>arousal_tags</th>\n",
              "      <th>dominance_tags</th>\n",
              "      <th>mbid</th>\n",
              "      <th>spotify_id</th>\n",
              "      <th>genre</th>\n",
              "    </tr>\n",
              "  </thead>\n",
              "  <tbody>\n",
              "    <tr>\n",
              "      <th>0</th>\n",
              "      <td>https://www.last.fm/music/eminem/_/%2527till%2...</td>\n",
              "      <td>'Till I Collapse</td>\n",
              "      <td>Eminem</td>\n",
              "      <td>['aggressive']</td>\n",
              "      <td>6</td>\n",
              "      <td>4.550000</td>\n",
              "      <td>5.273125</td>\n",
              "      <td>5.690625</td>\n",
              "      <td>cab93def-26c5-4fb0-bedd-26ec4c1619e1</td>\n",
              "      <td>4xkOaSrkexMciUUogZKVTS</td>\n",
              "      <td>rap</td>\n",
              "    </tr>\n",
              "    <tr>\n",
              "      <th>1</th>\n",
              "      <td>https://www.last.fm/music/metallica/_/st.%2banger</td>\n",
              "      <td>St. Anger</td>\n",
              "      <td>Metallica</td>\n",
              "      <td>['aggressive']</td>\n",
              "      <td>8</td>\n",
              "      <td>3.710000</td>\n",
              "      <td>5.833000</td>\n",
              "      <td>5.427250</td>\n",
              "      <td>727a2529-7ee8-4860-aef6-7959884895cb</td>\n",
              "      <td>3fOc9x06lKJBhz435mInlH</td>\n",
              "      <td>metal</td>\n",
              "    </tr>\n",
              "    <tr>\n",
              "      <th>2</th>\n",
              "      <td>https://www.last.fm/music/rick%2bross/_/speedi...</td>\n",
              "      <td>Speedin'</td>\n",
              "      <td>Rick Ross</td>\n",
              "      <td>['aggressive']</td>\n",
              "      <td>1</td>\n",
              "      <td>3.080000</td>\n",
              "      <td>5.870000</td>\n",
              "      <td>5.490000</td>\n",
              "      <td>NaN</td>\n",
              "      <td>3Y96xd4Ce0J47dcalLrEC8</td>\n",
              "      <td>rap</td>\n",
              "    </tr>\n",
              "    <tr>\n",
              "      <th>3</th>\n",
              "      <td>https://www.last.fm/music/m.i.a./_/bamboo%2bbanga</td>\n",
              "      <td>Bamboo Banga</td>\n",
              "      <td>M.I.A.</td>\n",
              "      <td>['aggressive', 'fun', 'sexy', 'energetic']</td>\n",
              "      <td>13</td>\n",
              "      <td>6.555071</td>\n",
              "      <td>5.537214</td>\n",
              "      <td>5.691357</td>\n",
              "      <td>99dd2c8c-e7c1-413e-8ea4-4497a00ffa18</td>\n",
              "      <td>6tqFC1DIOphJkCwrjVzPmg</td>\n",
              "      <td>hip-hop</td>\n",
              "    </tr>\n",
              "    <tr>\n",
              "      <th>4</th>\n",
              "      <td>https://www.last.fm/music/dope/_/die%2bmf%2bdie</td>\n",
              "      <td>Die MF Die</td>\n",
              "      <td>Dope</td>\n",
              "      <td>['aggressive']</td>\n",
              "      <td>7</td>\n",
              "      <td>3.771176</td>\n",
              "      <td>5.348235</td>\n",
              "      <td>5.441765</td>\n",
              "      <td>b9eb3484-5e0e-4690-ab5a-ca91937032a5</td>\n",
              "      <td>5bU4KX47KqtDKKaLM4QCzh</td>\n",
              "      <td>metal</td>\n",
              "    </tr>\n",
              "    <tr>\n",
              "      <th>...</th>\n",
              "      <td>...</td>\n",
              "      <td>...</td>\n",
              "      <td>...</td>\n",
              "      <td>...</td>\n",
              "      <td>...</td>\n",
              "      <td>...</td>\n",
              "      <td>...</td>\n",
              "      <td>...</td>\n",
              "      <td>...</td>\n",
              "      <td>...</td>\n",
              "      <td>...</td>\n",
              "    </tr>\n",
              "    <tr>\n",
              "      <th>89996</th>\n",
              "      <td>https://www.last.fm/music/gaby%2bhoffmann%2b%2...</td>\n",
              "      <td>Battle</td>\n",
              "      <td>Gaby Hoffmann &amp; Jay Duplass</td>\n",
              "      <td>['transparent']</td>\n",
              "      <td>1</td>\n",
              "      <td>5.370000</td>\n",
              "      <td>3.450000</td>\n",
              "      <td>5.330000</td>\n",
              "      <td>NaN</td>\n",
              "      <td>NaN</td>\n",
              "      <td>NaN</td>\n",
              "    </tr>\n",
              "    <tr>\n",
              "      <th>89997</th>\n",
              "      <td>https://www.last.fm/music/omar%2brodriguez-lop...</td>\n",
              "      <td>Hands Tied to the Roots of a Hemorrhage</td>\n",
              "      <td>Omar Rodriguez-Lopez</td>\n",
              "      <td>['transparent']</td>\n",
              "      <td>4</td>\n",
              "      <td>5.797887</td>\n",
              "      <td>4.132254</td>\n",
              "      <td>5.570563</td>\n",
              "      <td>NaN</td>\n",
              "      <td>NaN</td>\n",
              "      <td>progressive rock</td>\n",
              "    </tr>\n",
              "    <tr>\n",
              "      <th>89998</th>\n",
              "      <td>https://www.last.fm/music/ace%2bwhite/_/crookf...</td>\n",
              "      <td>Crookfield Zoo</td>\n",
              "      <td>Ace White</td>\n",
              "      <td>['transparent']</td>\n",
              "      <td>1</td>\n",
              "      <td>5.370000</td>\n",
              "      <td>3.450000</td>\n",
              "      <td>5.330000</td>\n",
              "      <td>NaN</td>\n",
              "      <td>NaN</td>\n",
              "      <td>NaN</td>\n",
              "    </tr>\n",
              "    <tr>\n",
              "      <th>89999</th>\n",
              "      <td>https://www.last.fm/music/second%2bchyld/_/tra...</td>\n",
              "      <td>Transparent (Full Version)</td>\n",
              "      <td>Second Chyld</td>\n",
              "      <td>['transparent']</td>\n",
              "      <td>1</td>\n",
              "      <td>5.370000</td>\n",
              "      <td>3.450000</td>\n",
              "      <td>5.330000</td>\n",
              "      <td>NaN</td>\n",
              "      <td>NaN</td>\n",
              "      <td>NaN</td>\n",
              "    </tr>\n",
              "    <tr>\n",
              "      <th>90000</th>\n",
              "      <td>https://www.last.fm/music/message%2bto%2bbears...</td>\n",
              "      <td>Unfold</td>\n",
              "      <td>Message To Bears</td>\n",
              "      <td>['translucent']</td>\n",
              "      <td>2</td>\n",
              "      <td>3.340000</td>\n",
              "      <td>1.405000</td>\n",
              "      <td>3.500000</td>\n",
              "      <td>247179b0-af1f-4c2b-b4fe-751070d1c0cc</td>\n",
              "      <td>14BYEOeRb3jzglJmKX8eM2</td>\n",
              "      <td>ambient</td>\n",
              "    </tr>\n",
              "  </tbody>\n",
              "</table>\n",
              "<p>90001 rows × 11 columns</p>\n",
              "</div>\n",
              "    <div class=\"colab-df-buttons\">\n",
              "\n",
              "  <div class=\"colab-df-container\">\n",
              "    <button class=\"colab-df-convert\" onclick=\"convertToInteractive('df-c586ee65-9ab0-40b7-9360-8a121c7462b8')\"\n",
              "            title=\"Convert this dataframe to an interactive table.\"\n",
              "            style=\"display:none;\">\n",
              "\n",
              "  <svg xmlns=\"http://www.w3.org/2000/svg\" height=\"24px\" viewBox=\"0 -960 960 960\">\n",
              "    <path d=\"M120-120v-720h720v720H120Zm60-500h600v-160H180v160Zm220 220h160v-160H400v160Zm0 220h160v-160H400v160ZM180-400h160v-160H180v160Zm440 0h160v-160H620v160ZM180-180h160v-160H180v160Zm440 0h160v-160H620v160Z\"/>\n",
              "  </svg>\n",
              "    </button>\n",
              "\n",
              "  <style>\n",
              "    .colab-df-container {\n",
              "      display:flex;\n",
              "      gap: 12px;\n",
              "    }\n",
              "\n",
              "    .colab-df-convert {\n",
              "      background-color: #E8F0FE;\n",
              "      border: none;\n",
              "      border-radius: 50%;\n",
              "      cursor: pointer;\n",
              "      display: none;\n",
              "      fill: #1967D2;\n",
              "      height: 32px;\n",
              "      padding: 0 0 0 0;\n",
              "      width: 32px;\n",
              "    }\n",
              "\n",
              "    .colab-df-convert:hover {\n",
              "      background-color: #E2EBFA;\n",
              "      box-shadow: 0px 1px 2px rgba(60, 64, 67, 0.3), 0px 1px 3px 1px rgba(60, 64, 67, 0.15);\n",
              "      fill: #174EA6;\n",
              "    }\n",
              "\n",
              "    .colab-df-buttons div {\n",
              "      margin-bottom: 4px;\n",
              "    }\n",
              "\n",
              "    [theme=dark] .colab-df-convert {\n",
              "      background-color: #3B4455;\n",
              "      fill: #D2E3FC;\n",
              "    }\n",
              "\n",
              "    [theme=dark] .colab-df-convert:hover {\n",
              "      background-color: #434B5C;\n",
              "      box-shadow: 0px 1px 3px 1px rgba(0, 0, 0, 0.15);\n",
              "      filter: drop-shadow(0px 1px 2px rgba(0, 0, 0, 0.3));\n",
              "      fill: #FFFFFF;\n",
              "    }\n",
              "  </style>\n",
              "\n",
              "    <script>\n",
              "      const buttonEl =\n",
              "        document.querySelector('#df-c586ee65-9ab0-40b7-9360-8a121c7462b8 button.colab-df-convert');\n",
              "      buttonEl.style.display =\n",
              "        google.colab.kernel.accessAllowed ? 'block' : 'none';\n",
              "\n",
              "      async function convertToInteractive(key) {\n",
              "        const element = document.querySelector('#df-c586ee65-9ab0-40b7-9360-8a121c7462b8');\n",
              "        const dataTable =\n",
              "          await google.colab.kernel.invokeFunction('convertToInteractive',\n",
              "                                                    [key], {});\n",
              "        if (!dataTable) return;\n",
              "\n",
              "        const docLinkHtml = 'Like what you see? Visit the ' +\n",
              "          '<a target=\"_blank\" href=https://colab.research.google.com/notebooks/data_table.ipynb>data table notebook</a>'\n",
              "          + ' to learn more about interactive tables.';\n",
              "        element.innerHTML = '';\n",
              "        dataTable['output_type'] = 'display_data';\n",
              "        await google.colab.output.renderOutput(dataTable, element);\n",
              "        const docLink = document.createElement('div');\n",
              "        docLink.innerHTML = docLinkHtml;\n",
              "        element.appendChild(docLink);\n",
              "      }\n",
              "    </script>\n",
              "  </div>\n",
              "\n",
              "\n",
              "<div id=\"df-94796458-055d-4d81-950b-120765482bdb\">\n",
              "  <button class=\"colab-df-quickchart\" onclick=\"quickchart('df-94796458-055d-4d81-950b-120765482bdb')\"\n",
              "            title=\"Suggest charts\"\n",
              "            style=\"display:none;\">\n",
              "\n",
              "<svg xmlns=\"http://www.w3.org/2000/svg\" height=\"24px\"viewBox=\"0 0 24 24\"\n",
              "     width=\"24px\">\n",
              "    <g>\n",
              "        <path d=\"M19 3H5c-1.1 0-2 .9-2 2v14c0 1.1.9 2 2 2h14c1.1 0 2-.9 2-2V5c0-1.1-.9-2-2-2zM9 17H7v-7h2v7zm4 0h-2V7h2v10zm4 0h-2v-4h2v4z\"/>\n",
              "    </g>\n",
              "</svg>\n",
              "  </button>\n",
              "\n",
              "<style>\n",
              "  .colab-df-quickchart {\n",
              "      --bg-color: #E8F0FE;\n",
              "      --fill-color: #1967D2;\n",
              "      --hover-bg-color: #E2EBFA;\n",
              "      --hover-fill-color: #174EA6;\n",
              "      --disabled-fill-color: #AAA;\n",
              "      --disabled-bg-color: #DDD;\n",
              "  }\n",
              "\n",
              "  [theme=dark] .colab-df-quickchart {\n",
              "      --bg-color: #3B4455;\n",
              "      --fill-color: #D2E3FC;\n",
              "      --hover-bg-color: #434B5C;\n",
              "      --hover-fill-color: #FFFFFF;\n",
              "      --disabled-bg-color: #3B4455;\n",
              "      --disabled-fill-color: #666;\n",
              "  }\n",
              "\n",
              "  .colab-df-quickchart {\n",
              "    background-color: var(--bg-color);\n",
              "    border: none;\n",
              "    border-radius: 50%;\n",
              "    cursor: pointer;\n",
              "    display: none;\n",
              "    fill: var(--fill-color);\n",
              "    height: 32px;\n",
              "    padding: 0;\n",
              "    width: 32px;\n",
              "  }\n",
              "\n",
              "  .colab-df-quickchart:hover {\n",
              "    background-color: var(--hover-bg-color);\n",
              "    box-shadow: 0 1px 2px rgba(60, 64, 67, 0.3), 0 1px 3px 1px rgba(60, 64, 67, 0.15);\n",
              "    fill: var(--button-hover-fill-color);\n",
              "  }\n",
              "\n",
              "  .colab-df-quickchart-complete:disabled,\n",
              "  .colab-df-quickchart-complete:disabled:hover {\n",
              "    background-color: var(--disabled-bg-color);\n",
              "    fill: var(--disabled-fill-color);\n",
              "    box-shadow: none;\n",
              "  }\n",
              "\n",
              "  .colab-df-spinner {\n",
              "    border: 2px solid var(--fill-color);\n",
              "    border-color: transparent;\n",
              "    border-bottom-color: var(--fill-color);\n",
              "    animation:\n",
              "      spin 1s steps(1) infinite;\n",
              "  }\n",
              "\n",
              "  @keyframes spin {\n",
              "    0% {\n",
              "      border-color: transparent;\n",
              "      border-bottom-color: var(--fill-color);\n",
              "      border-left-color: var(--fill-color);\n",
              "    }\n",
              "    20% {\n",
              "      border-color: transparent;\n",
              "      border-left-color: var(--fill-color);\n",
              "      border-top-color: var(--fill-color);\n",
              "    }\n",
              "    30% {\n",
              "      border-color: transparent;\n",
              "      border-left-color: var(--fill-color);\n",
              "      border-top-color: var(--fill-color);\n",
              "      border-right-color: var(--fill-color);\n",
              "    }\n",
              "    40% {\n",
              "      border-color: transparent;\n",
              "      border-right-color: var(--fill-color);\n",
              "      border-top-color: var(--fill-color);\n",
              "    }\n",
              "    60% {\n",
              "      border-color: transparent;\n",
              "      border-right-color: var(--fill-color);\n",
              "    }\n",
              "    80% {\n",
              "      border-color: transparent;\n",
              "      border-right-color: var(--fill-color);\n",
              "      border-bottom-color: var(--fill-color);\n",
              "    }\n",
              "    90% {\n",
              "      border-color: transparent;\n",
              "      border-bottom-color: var(--fill-color);\n",
              "    }\n",
              "  }\n",
              "</style>\n",
              "\n",
              "  <script>\n",
              "    async function quickchart(key) {\n",
              "      const quickchartButtonEl =\n",
              "        document.querySelector('#' + key + ' button');\n",
              "      quickchartButtonEl.disabled = true;  // To prevent multiple clicks.\n",
              "      quickchartButtonEl.classList.add('colab-df-spinner');\n",
              "      try {\n",
              "        const charts = await google.colab.kernel.invokeFunction(\n",
              "            'suggestCharts', [key], {});\n",
              "      } catch (error) {\n",
              "        console.error('Error during call to suggestCharts:', error);\n",
              "      }\n",
              "      quickchartButtonEl.classList.remove('colab-df-spinner');\n",
              "      quickchartButtonEl.classList.add('colab-df-quickchart-complete');\n",
              "    }\n",
              "    (() => {\n",
              "      let quickchartButtonEl =\n",
              "        document.querySelector('#df-94796458-055d-4d81-950b-120765482bdb button');\n",
              "      quickchartButtonEl.style.display =\n",
              "        google.colab.kernel.accessAllowed ? 'block' : 'none';\n",
              "    })();\n",
              "  </script>\n",
              "</div>\n",
              "    </div>\n",
              "  </div>\n"
            ],
            "application/vnd.google.colaboratory.intrinsic+json": {
              "type": "dataframe",
              "variable_name": "df",
              "summary": "{\n  \"name\": \"df\",\n  \"rows\": 90001,\n  \"fields\": [\n    {\n      \"column\": \"lastfm_url\",\n      \"properties\": {\n        \"dtype\": \"string\",\n        \"num_unique_values\": 90001,\n        \"samples\": [\n          \"https://www.last.fm/music/blackstreet/_/falling%2bin%2blove%2bagain\",\n          \"https://www.last.fm/music/lucifers%2bcrossing/_/blasphemer\",\n          \"https://www.last.fm/music/madonna/_/justify%2bmy%2blove%2b%2528porno%2bmix%2529%2brare\"\n        ],\n        \"semantic_type\": \"\",\n        \"description\": \"\"\n      }\n    },\n    {\n      \"column\": \"track\",\n      \"properties\": {\n        \"dtype\": \"string\",\n        \"num_unique_values\": 79392,\n        \"samples\": [\n          \"Know the Way (outro)\",\n          \"Girlie Girlie\",\n          \"Mental Universe\"\n        ],\n        \"semantic_type\": \"\",\n        \"description\": \"\"\n      }\n    },\n    {\n      \"column\": \"artist\",\n      \"properties\": {\n        \"dtype\": \"category\",\n        \"num_unique_values\": 26012,\n        \"samples\": [\n          \"Marco Beltrami\",\n          \"Dietrich Buxtehude\",\n          \"Amor Antiquita\"\n        ],\n        \"semantic_type\": \"\",\n        \"description\": \"\"\n      }\n    },\n    {\n      \"column\": \"seeds\",\n      \"properties\": {\n        \"dtype\": \"category\",\n        \"num_unique_values\": 9031,\n        \"samples\": [\n          \"['gloomy', 'bleak', 'cold']\",\n          \"['martial', 'serious']\",\n          \"['wry', 'literate', 'bittersweet', 'wistful']\"\n        ],\n        \"semantic_type\": \"\",\n        \"description\": \"\"\n      }\n    },\n    {\n      \"column\": \"number_of_emotion_tags\",\n      \"properties\": {\n        \"dtype\": \"number\",\n        \"std\": 4,\n        \"min\": 1,\n        \"max\": 50,\n        \"num_unique_values\": 44,\n        \"samples\": [\n          47,\n          21,\n          17\n        ],\n        \"semantic_type\": \"\",\n        \"description\": \"\"\n      }\n    },\n    {\n      \"column\": \"valence_tags\",\n      \"properties\": {\n        \"dtype\": \"number\",\n        \"std\": 1.5530791595439202,\n        \"min\": 0.235,\n        \"max\": 8.475,\n        \"num_unique_values\": 31445,\n        \"samples\": [\n          6.3,\n          5.832307692307692,\n          7.548\n        ],\n        \"semantic_type\": \"\",\n        \"description\": \"\"\n      }\n    },\n    {\n      \"column\": \"arousal_tags\",\n      \"properties\": {\n        \"dtype\": \"number\",\n        \"std\": 1.1549480260863463,\n        \"min\": 0.1081132075471698,\n        \"max\": 7.27,\n        \"num_unique_values\": 29647,\n        \"samples\": [\n          3.8766666666666665,\n          3.078089887640449,\n          3.642763157894736\n        ],\n        \"semantic_type\": \"\",\n        \"description\": \"\"\n      }\n    },\n    {\n      \"column\": \"dominance_tags\",\n      \"properties\": {\n        \"dtype\": \"number\",\n        \"std\": 1.1710958236370639,\n        \"min\": 0.2292307692307692,\n        \"max\": 7.44,\n        \"num_unique_values\": 30011,\n        \"samples\": [\n          4.3514285714285705,\n          5.796732673267327,\n          4.322666666666668\n        ],\n        \"semantic_type\": \"\",\n        \"description\": \"\"\n      }\n    },\n    {\n      \"column\": \"mbid\",\n      \"properties\": {\n        \"dtype\": \"string\",\n        \"num_unique_values\": 61217,\n        \"samples\": [\n          \"b39060be-f274-4014-99d5-e1cc976c63af\",\n          \"d848273b-4be8-440e-ab68-9c6efb82d4de\",\n          \"139125fd-fbc5-4b13-b28b-5c567ff4bc03\"\n        ],\n        \"semantic_type\": \"\",\n        \"description\": \"\"\n      }\n    },\n    {\n      \"column\": \"spotify_id\",\n      \"properties\": {\n        \"dtype\": \"string\",\n        \"num_unique_values\": 60656,\n        \"samples\": [\n          \"20wqsJKQrhWlKDOzawaLS0\",\n          \"27oFpFktCq9JIXjJQRuv7a\",\n          \"1lTNswp9MzADZi8DB2uK9O\"\n        ],\n        \"semantic_type\": \"\",\n        \"description\": \"\"\n      }\n    },\n    {\n      \"column\": \"genre\",\n      \"properties\": {\n        \"dtype\": \"category\",\n        \"num_unique_values\": 811,\n        \"samples\": [\n          \"goa trance\",\n          \"rock-n-roll\",\n          \"free jazz\"\n        ],\n        \"semantic_type\": \"\",\n        \"description\": \"\"\n      }\n    }\n  ]\n}"
            }
          },
          "metadata": {},
          "execution_count": 4
        }
      ]
    },
    {
      "source": [
        "# @title arousal_tags\n",
        "\n",
        "from matplotlib import pyplot as plt\n",
        "df['arousal_tags'].plot(kind='hist', bins=20, title='arousal_tags')\n",
        "plt.gca().spines[['top', 'right',]].set_visible(False)"
      ],
      "cell_type": "code",
      "execution_count": null,
      "outputs": [
        {
          "output_type": "display_data",
          "data": {
            "text/plain": [
              "<Figure size 640x480 with 1 Axes>"
            ],
            "image/png": "[encoded data removed]"
          },
          "metadata": {}
        }
      ],
      "metadata": {
        "colab": {
          "base_uri": "https://localhost:8080/",
          "height": 452
        },
        "id": "UIAkMOWdTAt5",
        "outputId": "ca5dddd0-b5f0-4525-f797-685bf65991af"
      }
    },
    {
      "cell_type": "code",
      "source": [
        "valence_threshold = 5.0\n",
        "\n",
        "# Create a new column 'recommended_song' based on the valence score\n",
        "df['recommended_song'] = df['valence_tags'].apply(lambda x: 1 if x >= valence_threshold else 0)\n",
        "\n",
        "features = ['valence_tags','arousal_tags','dominance_tags']\n",
        "X = df[features]\n",
        "y = df['recommended_song']"
      ],
      "metadata": {
        "id": "iThJXQ6VSGez"
      },
      "execution_count": null,
      "outputs": []
    },
    {
      "cell_type": "code",
      "source": [
        "X_train, X_test, y_train, y_test = train_test_split(X, y, test_size=0.2, random_state=42)\n",
        "print(X_train)\n",
        "print(y_train)"
      ],
      "metadata": {
        "colab": {
          "base_uri": "https://localhost:8080/"
        },
        "id": "7pwmsI2J2lQe",
        "outputId": "6b1d9415-ac51-4fad-87f3-92bc0a8407ce"
      },
      "execution_count": null,
      "outputs": [
        {
          "output_type": "stream",
          "name": "stdout",
          "text": [
            "       valence_tags  arousal_tags  dominance_tags\n",
            "11453      3.150000      3.320000        3.150000\n",
            "9691       3.590476      3.611905        3.539524\n",
            "51994      7.508571      5.025000        6.518571\n",
            "23531      4.753333      2.896667        5.113333\n",
            "30635      5.900000      4.770000        5.960000\n",
            "...             ...           ...             ...\n",
            "6265       4.635000      4.320000        4.120000\n",
            "54886      3.850000      5.640000        4.600000\n",
            "76820      5.100000      4.090000        6.440000\n",
            "860        3.080000      5.870000        5.490000\n",
            "15795      3.558261      2.764783        3.805652\n",
            "\n",
            "[72000 rows x 3 columns]\n",
            "11453    0\n",
            "9691     0\n",
            "51994    1\n",
            "23531    0\n",
            "30635    1\n",
            "        ..\n",
            "6265     0\n",
            "54886    0\n",
            "76820    1\n",
            "860      0\n",
            "15795    0\n",
            "Name: recommended_song, Length: 72000, dtype: int64\n"
          ]
        }
      ]
    },
    {
      "cell_type": "code",
      "source": [
        "model = RandomForestClassifier()\n",
        "model.fit(X_train, y_train)"
      ],
      "metadata": {
        "colab": {
          "base_uri": "https://localhost:8080/",
          "height": 74
        },
        "id": "SvtyWk8q4JN_",
        "outputId": "62d0ffb8-71f2-488e-f913-3eb1d5fa5d7e"
      },
      "execution_count": null,
      "outputs": [
        {
          "output_type": "execute_result",
          "data": {
            "text/plain": [
              "RandomForestClassifier()"
            ],
            "text/html": [
              "<style>#sk-container-id-1 {color: black;background-color: white;}#sk-container-id-1 pre{padding: 0;}#sk-container-id-1 div.sk-toggleable {background-color: white;}#sk-container-id-1 label.sk-toggleable__label {cursor: pointer;display: block;width: 100%;margin-bottom: 0;padding: 0.3em;box-sizing: border-box;text-align: center;}#sk-container-id-1 label.sk-toggleable__label-arrow:before {content: \"▸\";float: left;margin-right: 0.25em;color: #696969;}#sk-container-id-1 label.sk-toggleable__label-arrow:hover:before {color: black;}#sk-container-id-1 div.sk-estimator:hover label.sk-toggleable__label-arrow:before {color: black;}#sk-container-id-1 div.sk-toggleable__content {max-height: 0;max-width: 0;overflow: hidden;text-align: left;background-color: #f0f8ff;}#sk-container-id-1 div.sk-toggleable__content pre {margin: 0.2em;color: black;border-radius: 0.25em;background-color: #f0f8ff;}#sk-container-id-1 input.sk-toggleable__control:checked~div.sk-toggleable__content {max-height: 200px;max-width: 100%;overflow: auto;}#sk-container-id-1 input.sk-toggleable__control:checked~label.sk-toggleable__label-arrow:before {content: \"▾\";}#sk-container-id-1 div.sk-estimator input.sk-toggleable__control:checked~label.sk-toggleable__label {background-color: #d4ebff;}#sk-container-id-1 div.sk-label input.sk-toggleable__control:checked~label.sk-toggleable__label {background-color: #d4ebff;}#sk-container-id-1 input.sk-hidden--visually {border: 0;clip: rect(1px 1px 1px 1px);clip: rect(1px, 1px, 1px, 1px);height: 1px;margin: -1px;overflow: hidden;padding: 0;position: absolute;width: 1px;}#sk-container-id-1 div.sk-estimator {font-family: monospace;background-color: #f0f8ff;border: 1px dotted black;border-radius: 0.25em;box-sizing: border-box;margin-bottom: 0.5em;}#sk-container-id-1 div.sk-estimator:hover {background-color: #d4ebff;}#sk-container-id-1 div.sk-parallel-item::after {content: \"\";width: 100%;border-bottom: 1px solid gray;flex-grow: 1;}#sk-container-id-1 div.sk-label:hover label.sk-toggleable__label {background-color: #d4ebff;}#sk-container-id-1 div.sk-serial::before {content: \"\";position: absolute;border-left: 1px solid gray;box-sizing: border-box;top: 0;bottom: 0;left: 50%;z-index: 0;}#sk-container-id-1 div.sk-serial {display: flex;flex-direction: column;align-items: center;background-color: white;padding-right: 0.2em;padding-left: 0.2em;position: relative;}#sk-container-id-1 div.sk-item {position: relative;z-index: 1;}#sk-container-id-1 div.sk-parallel {display: flex;align-items: stretch;justify-content: center;background-color: white;position: relative;}#sk-container-id-1 div.sk-item::before, #sk-container-id-1 div.sk-parallel-item::before {content: \"\";position: absolute;border-left: 1px solid gray;box-sizing: border-box;top: 0;bottom: 0;left: 50%;z-index: -1;}#sk-container-id-1 div.sk-parallel-item {display: flex;flex-direction: column;z-index: 1;position: relative;background-color: white;}#sk-container-id-1 div.sk-parallel-item:first-child::after {align-self: flex-end;width: 50%;}#sk-container-id-1 div.sk-parallel-item:last-child::after {align-self: flex-start;width: 50%;}#sk-container-id-1 div.sk-parallel-item:only-child::after {width: 0;}#sk-container-id-1 div.sk-dashed-wrapped {border: 1px dashed gray;margin: 0 0.4em 0.5em 0.4em;box-sizing: border-box;padding-bottom: 0.4em;background-color: white;}#sk-container-id-1 div.sk-label label {font-family: monospace;font-weight: bold;display: inline-block;line-height: 1.2em;}#sk-container-id-1 div.sk-label-container {text-align: center;}#sk-container-id-1 div.sk-container {/* jupyter's `normalize.less` sets `[hidden] { display: none; }` but bootstrap.min.css set `[hidden] { display: none !important; }` so we also need the `!important` here to be able to override the default hidden behavior on the sphinx rendered scikit-learn.org. See: https://github.com/scikit-learn/scikit-learn/issues/21755 */display: inline-block !important;position: relative;}#sk-container-id-1 div.sk-text-repr-fallback {display: none;}</style><div id=\"sk-container-id-1\" class=\"sk-top-container\"><div class=\"sk-text-repr-fallback\"><pre>RandomForestClassifier()</pre><b>In a Jupyter environment, please rerun this cell to show the HTML representation or trust the notebook. <br />On GitHub, the HTML representation is unable to render, please try loading this page with nbviewer.org.</b></div><div class=\"sk-container\" hidden><div class=\"sk-item\"><div class=\"sk-estimator sk-toggleable\"><input class=\"sk-toggleable__control sk-hidden--visually\" id=\"sk-estimator-id-1\" type=\"checkbox\" checked><label for=\"sk-estimator-id-1\" class=\"sk-toggleable__label sk-toggleable__label-arrow\">RandomForestClassifier</label><div class=\"sk-toggleable__content\"><pre>RandomForestClassifier()</pre></div></div></div></div></div>"
            ]
          },
          "metadata": {},
          "execution_count": 14
        }
      ]
    },
    {
      "cell_type": "code",
      "source": [
        "y_pred = model.predict(X_test)\n",
        "y_pred"
      ],
      "metadata": {
        "colab": {
          "base_uri": "https://localhost:8080/"
        },
        "id": "VZLRuzEk4Qvj",
        "outputId": "b312e0a2-ebe9-478d-d5d4-21fcd1582a89"
      },
      "execution_count": null,
      "outputs": [
        {
          "output_type": "execute_result",
          "data": {
            "text/plain": [
              "array([1, 0, 1, ..., 1, 1, 1])"
            ]
          },
          "metadata": {},
          "execution_count": 16
        }
      ]
    },
    {
      "cell_type": "code",
      "source": [
        "accuracy = accuracy_score(y_test, y_pred)\n",
        "print(\"Accuracy:\", accuracy)"
      ],
      "metadata": {
        "colab": {
          "base_uri": "https://localhost:8080/"
        },
        "id": "Q6EiwTXD4Ues",
        "outputId": "616a2954-834f-4f37-9a32-0a47b489ed66"
      },
      "execution_count": null,
      "outputs": [
        {
          "output_type": "stream",
          "name": "stdout",
          "text": [
            "Accuracy: 1.0\n"
          ]
        }
      ]
    },
    {
      "cell_type": "code",
      "source": [
        "# Assuming you have loaded and trained a RandomForestClassifier as 'model'\n",
        "\n",
        "# Preprocess the input data (e.g., sentiment scores)\n",
        "input_sentiment_score = [[5.0, 3.0, 4.0]]  # Example sentiment score\n",
        "\n",
        "# Predict the output\n",
        "predicted_song = model.predict(input_sentiment_score)\n",
        "\n",
        "# Interpret the output\n",
        "if predicted_song == 1:\n",
        "    print(\"Recommended Song\")\n",
        "else:\n",
        "    print(\"Not Recommended Song\")\n"
      ],
      "metadata": {
        "colab": {
          "base_uri": "https://localhost:8080/"
        },
        "id": "YM0VfReN8AaD",
        "outputId": "c741952f-cc2e-40ca-c9eb-ace579e639f0"
      },
      "execution_count": null,
      "outputs": [
        {
          "output_type": "stream",
          "name": "stdout",
          "text": [
            "Recommended Song\n"
          ]
        },
        {
          "output_type": "stream",
          "name": "stderr",
          "text": [
            "/usr/local/lib/python3.10/dist-packages/sklearn/base.py:439: UserWarning: X does not have valid feature names, but RandomForestClassifier was fitted with feature names\n",
            "  warnings.warn(\n"
          ]
        }
      ]
    },
    {
      "cell_type": "code",
      "source": [
        "# Predict the output\n",
        "predicted_song = model.predict(input_sentiment_score)\n",
        "\n",
        "# Interpret the output\n",
        "if predicted_song == 1:\n",
        "    recommended_song = recommend_song(input_sentiment_score)  # Implement this function to recommend a song based on sentiment scores\n",
        "    print(\"Recommended Song:\", recommended_song)\n",
        "else:\n",
        "    print(\"Not Recommended Song\")\n"
      ],
      "metadata": {
        "id": "XX2hpSFa8haO"
      },
      "execution_count": null,
      "outputs": []
    },
    {
      "cell_type": "code",
      "source": [
        "def recommend_song(valence_tags, arousal_tags, dominance_tags):\n",
        "    # Example logic to recommend a song based on valence, arousal, and dominance tags\n",
        "    if 'happy' in valence_tags and 'high energy' in arousal_tags:\n",
        "        return \"Happy Upbeat Song\"\n",
        "    elif 'sad' in valence_tags and 'low energy' in arousal_tags:\n",
        "        return \"Sad Melancholic Song\"\n",
        "    elif 'aggressive' in dominance_tags:\n",
        "        return \"Aggressive Rock Song\"\n",
        "    else:\n",
        "        return \"Generic Recommendation\"\n",
        "\n",
        "# Example usage\n",
        "valence_tags = ['happy']\n",
        "arousal_tags = ['high energy']\n",
        "dominance_tags = ['aggressive']\n",
        "\n",
        "recommended_song = recommend_song(valence_tags, arousal_tags, dominance_tags)\n",
        "print(\"Recommended Song:\", recommended_song)\n"
      ],
      "metadata": {
        "colab": {
          "base_uri": "https://localhost:8080/"
        },
        "id": "LHq26p9_9QQm",
        "outputId": "edd100f8-595e-485f-bfa6-a8d207d69fd3"
      },
      "execution_count": null,
      "outputs": [
        {
          "output_type": "stream",
          "name": "stdout",
          "text": [
            "Recommended Song: Happy Upbeat Song\n"
          ]
        }
      ]
    },
    {
      "cell_type": "code",
      "source": [
        "def recommend_song(input_sentiment_score, muSe_data):\n",
        "    valence_score, arousal_score, dominance_score = input_sentiment_score\n",
        "\n",
        "    # Define threshold values for sentiment scores\n",
        "    valence_threshold = 5.0\n",
        "    arousal_threshold = 5.0\n",
        "    dominance_threshold = 5.0\n",
        "\n",
        "    # Determine valence tags\n",
        "    valence_tags = []\n",
        "    if valence_score >= valence_threshold:\n",
        "        valence_tags.append('happy')\n",
        "    elif valence_score <= -valence_threshold:\n",
        "        valence_tags.append('sad')\n",
        "\n",
        "    # Determine arousal tags\n",
        "    arousal_tags = []\n",
        "    if arousal_score >= arousal_threshold:\n",
        "        arousal_tags.append('high energy')\n",
        "    elif arousal_score <= -arousal_threshold:\n",
        "        arousal_tags.append('low energy')\n",
        "\n",
        "    # Determine dominance tags\n",
        "    dominance_tags = []\n",
        "    if dominance_score >= dominance_threshold:\n",
        "        dominance_tags.append('aggressive')\n",
        "\n",
        "    # # Recommend song based on tags\n",
        "    # if 'happy' in valence_tags and 'high energy' in arousal_tags:\n",
        "    #     return \"Happy Upbeat Song\"\n",
        "    # elif 'sad' in valence_tags and 'low energy' in arousal_tags:\n",
        "    #     return \"Sad Melancholic Song\"\n",
        "    # elif 'aggressive' in dominance_tags:\n",
        "    #     return \"Aggressive Rock Song\"\n",
        "    # else:\n",
        "    #     return \"Generic Recommendation\"\n",
        "\n",
        "    filtered_data = muSe_data[\n",
        "        (muSe_data['valence_tags'] == valence_score) &\n",
        "        (muSe_data['arousal_tags'] == arousal_score) &\n",
        "        (muSe_data['dominance_tags'] == dominance_score)\n",
        "    ]\n",
        "\n",
        "    # Check if any songs match the sentiment scores\n",
        "    if not filtered_data.empty:\n",
        "        # Return the first song from the filtered dataset\n",
        "        return filtered_data.iloc[0]['track']\n",
        "    else:\n",
        "        return \"No Song Found\"\n",
        "\n",
        "# Example usage\n",
        "input_sentiment_score = [5.0, 3.0, 4.0]  # Example sentiment score\n",
        "recommended_song = recommend_song(input_sentiment_score, df)\n",
        "print(\"Recommended Song:\", recommended_song)\n",
        "\n",
        "# # Example usage\n",
        "# input_sentiment_score = [5.0, 3.0, 4.0]  # Example sentiment score\n",
        "# recommended_song = recommend_song(input_sentiment_score)\n",
        "# print(\"Recommended Song:\", recommended_song)\n"
      ],
      "metadata": {
        "colab": {
          "base_uri": "https://localhost:8080/"
        },
        "id": "-pe_xpzj-Gqr",
        "outputId": "2ce2143b-77b7-4a6b-b356-278c02e1cfa0"
      },
      "execution_count": null,
      "outputs": [
        {
          "output_type": "stream",
          "name": "stdout",
          "text": [
            "Recommended Song: No Song Found\n"
          ]
        }
      ]
    },
    {
      "cell_type": "code",
      "source": [
        "def recommend_song(input_sentiment_score, muSe_data):\n",
        "    valence_score, arousal_score, dominance_score = input_sentiment_score\n",
        "\n",
        "    # Define threshold values for sentiment scores\n",
        "    valence_threshold = 5.0\n",
        "    arousal_threshold = 5.0\n",
        "    dominance_threshold = 5.0\n",
        "\n",
        "    # Filter the dataset based on sentiment scores\n",
        "    filtered_data = muSe_data[\n",
        "        (muSe_data['valence_tags'] == valence_score) &\n",
        "        (muSe_data['arousal_tags'] == arousal_score) &\n",
        "        (muSe_data['dominance_tags'] == dominance_score)\n",
        "    ]\n",
        "\n",
        "    # Check if any songs match the sentiment scores\n",
        "    if not filtered_data.empty:\n",
        "        # Return all matching songs\n",
        "        return filtered_data['track'].tolist()\n",
        "    else:\n",
        "        return \"No Song Found\"\n",
        "\n",
        "# Example usage\n",
        "input_sentiment_score = [5.0, 3.0, 4.0]  # Example sentiment score\n",
        "recommended_songs = recommend_song(input_sentiment_score,df)\n",
        "if isinstance(recommended_songs, list):\n",
        "    print(\"Recommended Songs:\", recommended_songs)\n",
        "else:\n",
        "    print(\"Recommended Song:\", recommended_songs)\n"
      ],
      "metadata": {
        "colab": {
          "base_uri": "https://localhost:8080/"
        },
        "id": "nKHy6L-u-9sD",
        "outputId": "cd18e710-1ec6-4791-9bb9-dd5f10771642"
      },
      "execution_count": null,
      "outputs": [
        {
          "output_type": "stream",
          "name": "stdout",
          "text": [
            "Recommended Song: No Song Found\n"
          ]
        }
      ]
    },
    {
      "cell_type": "code",
      "source": [
        "model.feature_names_in_ = features"
      ],
      "metadata": {
        "id": "bsNwfHyx_8Ja"
      },
      "execution_count": null,
      "outputs": []
    },
    {
      "cell_type": "code",
      "source": [
        "# Example input for checking the model\n",
        "input_features = [[2.0, 3.0, 4.0]]  # Example values for valence, arousal, and dominance\n",
        "\n",
        "# Make a prediction using the trained model\n",
        "predicted_song = model.predict(input_features)\n",
        "\n",
        "# Output the predicted song\n",
        "print(\"Predicted Song:\", predicted_song)\n"
      ],
      "metadata": {
        "colab": {
          "base_uri": "https://localhost:8080/"
        },
        "id": "YZtumdRU_thm",
        "outputId": "c7d74dfd-e30d-4dc1-83d0-56bfd3efe35d"
      },
      "execution_count": null,
      "outputs": [
        {
          "output_type": "stream",
          "name": "stdout",
          "text": [
            "Predicted Song: [0]\n"
          ]
        },
        {
          "output_type": "stream",
          "name": "stderr",
          "text": [
            "/usr/local/lib/python3.10/dist-packages/sklearn/base.py:439: UserWarning: X does not have valid feature names, but RandomForestClassifier was fitted with feature names\n",
            "  warnings.warn(\n"
          ]
        }
      ]
    },
    {
      "cell_type": "code",
      "source": [
        "# index of the predicted song\n",
        "predicted_index = predicted_song[0]\n",
        "\n",
        "# Retrieve the corresponding song from the dataset\n",
        "predicted_song_data = df.iloc[predicted_index]\n",
        "\n",
        "# Extract the song name\n",
        "predicted_song_name = predicted_song_data['track']\n",
        "print(\"Predicted Song:\", predicted_song_name)"
      ],
      "metadata": {
        "colab": {
          "base_uri": "https://localhost:8080/"
        },
        "id": "vsZMprXWAKw1",
        "outputId": "dd9068b4-e733-43ba-d550-c7a9ae48d15e"
      },
      "execution_count": null,
      "outputs": [
        {
          "output_type": "stream",
          "name": "stdout",
          "text": [
            "Predicted Song: 'Till I Collapse\n"
          ]
        }
      ]
    }
  ]
}